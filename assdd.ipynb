{
 "cells": [
  {
   "cell_type": "code",
   "execution_count": 1,
   "metadata": {
    "collapsed": true
   },
   "outputs": [],
   "source": [
    "import pandas as pd"
   ]
  },
  {
   "cell_type": "code",
   "execution_count": 2,
   "outputs": [],
   "source": [
    "submit = pd.read_csv('data/raw/all_data.csv')"
   ],
   "metadata": {
    "collapsed": false,
    "pycharm": {
     "name": "#%%\n"
    }
   }
  },
  {
   "cell_type": "code",
   "execution_count": 3,
   "outputs": [
    {
     "data": {
      "text/plain": "        id  hhid  Общее телесмотрение  Телесмотрение ночью  \\\n0        0  3348                  647                  437   \n1        1  4182                 2657                  538   \n2        2  1233                 1385                    0   \n3        3  4813                 2861                  607   \n4        4  1782                  478                  174   \n...    ...   ...                  ...                  ...   \n3239  3239   908                  697                    0   \n3240  3240  4567                  532                    2   \n3241  3241  2493                 1153                  212   \n3242  3242  3821                  871                  299   \n3243  3243   583                 1558                  343   \n\n      Телесмотрение утром  Телесмотрение в рабочее время  \\\n0                    15.0                             12   \n1                   363.0                           1582   \n2                    49.0                           1134   \n3                   857.0                           1374   \n4                    44.0                             53   \n...                   ...                            ...   \n3239                  8.0                            571   \n3240                  0.0                              6   \n3241                198.0                            743   \n3242                150.0                            422   \n3243                185.0                            998   \n\n      Телесмотрение в вечернее время  Телесмотрение в прайм тайм  \\\n0                                120                          63   \n1                                174                           0   \n2                                202                           0   \n3                                 23                           0   \n4                                 79                         128   \n...                              ...                         ...   \n3239                             118                           0   \n3240                             164                         360   \n3241                               0                           0   \n3242                               0                           0   \n3243                              32                           0   \n\n      Общее телесмотрение Пн-Пт  Телесмотрение ночью Пн-Пт  ...  \\\n0                         195.0                          0  ...   \n1                         415.0                        133  ...   \n2                         729.0                          0  ...   \n3                        1249.0                        294  ...   \n4                         260.0                          0  ...   \n...                         ...                        ...  ...   \n3239                      244.0                          0  ...   \n3240                      258.0                          1  ...   \n3241                      505.0                         29  ...   \n3242                      410.0                        215  ...   \n3243                      667.0                        261  ...   \n\n      Просмотр жанра образования в рабочее время  \\\n0                                              0   \n1                                              1   \n2                                              0   \n3                                             11   \n4                                              0   \n...                                          ...   \n3239                                           0   \n3240                                           0   \n3241                                           0   \n3242                                         194   \n3243                                           0   \n\n      Просмотр жанра образование в праздники  Размер ДХ  \\\n0                                          1        4.0   \n1                                        109        4.0   \n2                                          0        2.0   \n3                                         11        2.0   \n4                                          0        4.0   \n...                                      ...        ...   \n3239                                       0        4.0   \n3240                                       0        3.0   \n3241                                       0        2.0   \n3242                                       2        3.0   \n3243                                       0        2.0   \n\n                   Тип ресивера  \\\n0     Ресивер с поддержкой HDTV   \n1     Ресивер с поддержкой HEVC   \n2     Ресивер с поддержкой HDTV   \n3     Ресивер с поддержкой HEVC   \n4     Ресивер с поддержкой HDTV   \n...                         ...   \n3239  Ресивер с поддержкой HDTV   \n3240  Ресивер с поддержкой HEVC   \n3241  Ресивер с поддержкой HEVC   \n3242  Ресивер с поддержкой HEVC   \n3243  Ресивер с поддержкой HDTV   \n\n                                               Оператор  Есть ли Интернет  \\\n0                        Подключен только к Триколор ТВ               Нет   \n1                        Подключен только к Триколор ТВ              Есть   \n2                        Подключен только к Триколор ТВ              Есть   \n3                        Подключен только к Триколор ТВ               Нет   \n4                        Подключен только к Триколор ТВ              Есть   \n...                                                 ...               ...   \n3239                     Подключен только к Триколор ТВ              Есть   \n3240                     Подключен только к Триколор ТВ              Есть   \n3241                     Подключен только к Триколор ТВ               Нет   \n3242                     Подключен только к Триколор ТВ              Есть   \n3243  Подключен к Триколор ТВ и к другому оператору ...              Есть   \n\n                                              Состав ДХ  \\\n0     Нет членов семьи в возрасте 55+ лет и есть до ...   \n1     Нет членов семьи в возрасте 55+ лет и есть до ...   \n2     Есть члены семьи в возрасте 55+ лет и нет до 1...   \n3     Есть члены семьи в возрасте 55+ лет и нет до 1...   \n4     Нет членов семьи в возрасте 55+ лет и есть до ...   \n...                                                 ...   \n3239  Нет членов семьи в возрасте 55+ лет и есть до ...   \n3240  Нет членов семьи в возрасте 55+ лет и есть до ...   \n3241  Есть члены семьи в возрасте 55+ лет и нет до 1...   \n3242  Есть члены семьи в возрасте 55+ лет и есть до ...   \n3243  Есть члены семьи в возрасте 55+ лет и нет до 1...   \n\n                                     ФО  \\\n0     Северо-Западный федеральный округ   \n1           Уральский федеральный округ   \n2               Южный федеральный округ   \n3         Приволжский федеральный округ   \n4     Северо-Западный федеральный округ   \n...                                 ...   \n3239      Центральный федеральный округ   \n3240  Северо-Западный федеральный округ   \n3241      Центральный федеральный округ   \n3242        Уральский федеральный округ   \n3243      Центральный федеральный округ   \n\n                                   Тип нас.пункта  Почтовый индекс  \n0     Город с численностью от 45 тыс. до 400 тыс.           182180  \n1              Город с численностью менее 45 тыс.           457024  \n2                            Город более 400 тыс.           350901  \n3                       Сельский населенный пункт           452774  \n4                       Сельский населенный пункт           168068  \n...                                           ...              ...  \n3239                    Сельский населенный пункт           309830  \n3240           Город с численностью менее 45 тыс.           238758  \n3241                    Сельский населенный пункт           307341  \n3242           Город с численностью менее 45 тыс.           457020  \n3243                    Сельский населенный пункт           214522  \n\n[3244 rows x 44 columns]",
      "text/html": "<div>\n<style scoped>\n    .dataframe tbody tr th:only-of-type {\n        vertical-align: middle;\n    }\n\n    .dataframe tbody tr th {\n        vertical-align: top;\n    }\n\n    .dataframe thead th {\n        text-align: right;\n    }\n</style>\n<table border=\"1\" class=\"dataframe\">\n  <thead>\n    <tr style=\"text-align: right;\">\n      <th></th>\n      <th>id</th>\n      <th>hhid</th>\n      <th>Общее телесмотрение</th>\n      <th>Телесмотрение ночью</th>\n      <th>Телесмотрение утром</th>\n      <th>Телесмотрение в рабочее время</th>\n      <th>Телесмотрение в вечернее время</th>\n      <th>Телесмотрение в прайм тайм</th>\n      <th>Общее телесмотрение Пн-Пт</th>\n      <th>Телесмотрение ночью Пн-Пт</th>\n      <th>...</th>\n      <th>Просмотр жанра образования в рабочее время</th>\n      <th>Просмотр жанра образование в праздники</th>\n      <th>Размер ДХ</th>\n      <th>Тип ресивера</th>\n      <th>Оператор</th>\n      <th>Есть ли Интернет</th>\n      <th>Состав ДХ</th>\n      <th>ФО</th>\n      <th>Тип нас.пункта</th>\n      <th>Почтовый индекс</th>\n    </tr>\n  </thead>\n  <tbody>\n    <tr>\n      <th>0</th>\n      <td>0</td>\n      <td>3348</td>\n      <td>647</td>\n      <td>437</td>\n      <td>15.0</td>\n      <td>12</td>\n      <td>120</td>\n      <td>63</td>\n      <td>195.0</td>\n      <td>0</td>\n      <td>...</td>\n      <td>0</td>\n      <td>1</td>\n      <td>4.0</td>\n      <td>Ресивер с поддержкой HDTV</td>\n      <td>Подключен только к Триколор ТВ</td>\n      <td>Нет</td>\n      <td>Нет членов семьи в возрасте 55+ лет и есть до ...</td>\n      <td>Северо-Западный федеральный округ</td>\n      <td>Город с численностью от 45 тыс. до 400 тыс.</td>\n      <td>182180</td>\n    </tr>\n    <tr>\n      <th>1</th>\n      <td>1</td>\n      <td>4182</td>\n      <td>2657</td>\n      <td>538</td>\n      <td>363.0</td>\n      <td>1582</td>\n      <td>174</td>\n      <td>0</td>\n      <td>415.0</td>\n      <td>133</td>\n      <td>...</td>\n      <td>1</td>\n      <td>109</td>\n      <td>4.0</td>\n      <td>Ресивер с поддержкой HEVC</td>\n      <td>Подключен только к Триколор ТВ</td>\n      <td>Есть</td>\n      <td>Нет членов семьи в возрасте 55+ лет и есть до ...</td>\n      <td>Уральский федеральный округ</td>\n      <td>Город с численностью менее 45 тыс.</td>\n      <td>457024</td>\n    </tr>\n    <tr>\n      <th>2</th>\n      <td>2</td>\n      <td>1233</td>\n      <td>1385</td>\n      <td>0</td>\n      <td>49.0</td>\n      <td>1134</td>\n      <td>202</td>\n      <td>0</td>\n      <td>729.0</td>\n      <td>0</td>\n      <td>...</td>\n      <td>0</td>\n      <td>0</td>\n      <td>2.0</td>\n      <td>Ресивер с поддержкой HDTV</td>\n      <td>Подключен только к Триколор ТВ</td>\n      <td>Есть</td>\n      <td>Есть члены семьи в возрасте 55+ лет и нет до 1...</td>\n      <td>Южный федеральный округ</td>\n      <td>Город более 400 тыс.</td>\n      <td>350901</td>\n    </tr>\n    <tr>\n      <th>3</th>\n      <td>3</td>\n      <td>4813</td>\n      <td>2861</td>\n      <td>607</td>\n      <td>857.0</td>\n      <td>1374</td>\n      <td>23</td>\n      <td>0</td>\n      <td>1249.0</td>\n      <td>294</td>\n      <td>...</td>\n      <td>11</td>\n      <td>11</td>\n      <td>2.0</td>\n      <td>Ресивер с поддержкой HEVC</td>\n      <td>Подключен только к Триколор ТВ</td>\n      <td>Нет</td>\n      <td>Есть члены семьи в возрасте 55+ лет и нет до 1...</td>\n      <td>Приволжский федеральный округ</td>\n      <td>Сельский населенный пункт</td>\n      <td>452774</td>\n    </tr>\n    <tr>\n      <th>4</th>\n      <td>4</td>\n      <td>1782</td>\n      <td>478</td>\n      <td>174</td>\n      <td>44.0</td>\n      <td>53</td>\n      <td>79</td>\n      <td>128</td>\n      <td>260.0</td>\n      <td>0</td>\n      <td>...</td>\n      <td>0</td>\n      <td>0</td>\n      <td>4.0</td>\n      <td>Ресивер с поддержкой HDTV</td>\n      <td>Подключен только к Триколор ТВ</td>\n      <td>Есть</td>\n      <td>Нет членов семьи в возрасте 55+ лет и есть до ...</td>\n      <td>Северо-Западный федеральный округ</td>\n      <td>Сельский населенный пункт</td>\n      <td>168068</td>\n    </tr>\n    <tr>\n      <th>...</th>\n      <td>...</td>\n      <td>...</td>\n      <td>...</td>\n      <td>...</td>\n      <td>...</td>\n      <td>...</td>\n      <td>...</td>\n      <td>...</td>\n      <td>...</td>\n      <td>...</td>\n      <td>...</td>\n      <td>...</td>\n      <td>...</td>\n      <td>...</td>\n      <td>...</td>\n      <td>...</td>\n      <td>...</td>\n      <td>...</td>\n      <td>...</td>\n      <td>...</td>\n      <td>...</td>\n    </tr>\n    <tr>\n      <th>3239</th>\n      <td>3239</td>\n      <td>908</td>\n      <td>697</td>\n      <td>0</td>\n      <td>8.0</td>\n      <td>571</td>\n      <td>118</td>\n      <td>0</td>\n      <td>244.0</td>\n      <td>0</td>\n      <td>...</td>\n      <td>0</td>\n      <td>0</td>\n      <td>4.0</td>\n      <td>Ресивер с поддержкой HDTV</td>\n      <td>Подключен только к Триколор ТВ</td>\n      <td>Есть</td>\n      <td>Нет членов семьи в возрасте 55+ лет и есть до ...</td>\n      <td>Центральный федеральный округ</td>\n      <td>Сельский населенный пункт</td>\n      <td>309830</td>\n    </tr>\n    <tr>\n      <th>3240</th>\n      <td>3240</td>\n      <td>4567</td>\n      <td>532</td>\n      <td>2</td>\n      <td>0.0</td>\n      <td>6</td>\n      <td>164</td>\n      <td>360</td>\n      <td>258.0</td>\n      <td>1</td>\n      <td>...</td>\n      <td>0</td>\n      <td>0</td>\n      <td>3.0</td>\n      <td>Ресивер с поддержкой HEVC</td>\n      <td>Подключен только к Триколор ТВ</td>\n      <td>Есть</td>\n      <td>Нет членов семьи в возрасте 55+ лет и есть до ...</td>\n      <td>Северо-Западный федеральный округ</td>\n      <td>Город с численностью менее 45 тыс.</td>\n      <td>238758</td>\n    </tr>\n    <tr>\n      <th>3241</th>\n      <td>3241</td>\n      <td>2493</td>\n      <td>1153</td>\n      <td>212</td>\n      <td>198.0</td>\n      <td>743</td>\n      <td>0</td>\n      <td>0</td>\n      <td>505.0</td>\n      <td>29</td>\n      <td>...</td>\n      <td>0</td>\n      <td>0</td>\n      <td>2.0</td>\n      <td>Ресивер с поддержкой HEVC</td>\n      <td>Подключен только к Триколор ТВ</td>\n      <td>Нет</td>\n      <td>Есть члены семьи в возрасте 55+ лет и нет до 1...</td>\n      <td>Центральный федеральный округ</td>\n      <td>Сельский населенный пункт</td>\n      <td>307341</td>\n    </tr>\n    <tr>\n      <th>3242</th>\n      <td>3242</td>\n      <td>3821</td>\n      <td>871</td>\n      <td>299</td>\n      <td>150.0</td>\n      <td>422</td>\n      <td>0</td>\n      <td>0</td>\n      <td>410.0</td>\n      <td>215</td>\n      <td>...</td>\n      <td>194</td>\n      <td>2</td>\n      <td>3.0</td>\n      <td>Ресивер с поддержкой HEVC</td>\n      <td>Подключен только к Триколор ТВ</td>\n      <td>Есть</td>\n      <td>Есть члены семьи в возрасте 55+ лет и есть до ...</td>\n      <td>Уральский федеральный округ</td>\n      <td>Город с численностью менее 45 тыс.</td>\n      <td>457020</td>\n    </tr>\n    <tr>\n      <th>3243</th>\n      <td>3243</td>\n      <td>583</td>\n      <td>1558</td>\n      <td>343</td>\n      <td>185.0</td>\n      <td>998</td>\n      <td>32</td>\n      <td>0</td>\n      <td>667.0</td>\n      <td>261</td>\n      <td>...</td>\n      <td>0</td>\n      <td>0</td>\n      <td>2.0</td>\n      <td>Ресивер с поддержкой HDTV</td>\n      <td>Подключен к Триколор ТВ и к другому оператору ...</td>\n      <td>Есть</td>\n      <td>Есть члены семьи в возрасте 55+ лет и нет до 1...</td>\n      <td>Центральный федеральный округ</td>\n      <td>Сельский населенный пункт</td>\n      <td>214522</td>\n    </tr>\n  </tbody>\n</table>\n<p>3244 rows × 44 columns</p>\n</div>"
     },
     "execution_count": 3,
     "metadata": {},
     "output_type": "execute_result"
    }
   ],
   "source": [
    "submit"
   ],
   "metadata": {
    "collapsed": false,
    "pycharm": {
     "name": "#%%\n"
    }
   }
  },
  {
   "cell_type": "code",
   "execution_count": 4,
   "outputs": [],
   "source": [
    "def clean_data(input_path: str, output_path: str):\n",
    "    '''\n",
    "    :param input_path:\n",
    "    :param output_path:\n",
    "    '''\n",
    "\n",
    "    df = pd.read_csv(input_path)\n",
    "\n",
    "    df = df.drop(['hhid', 'id'], axis=1)\n",
    "    numeric_columns = df.drop('Почтовый индекс', axis=1).select_dtypes(include=['int'])\n",
    "\n",
    "\n",
    "    for i in numeric_columns:\n",
    "        Q1 = df[i].quantile(0.25)\n",
    "    Q3 = df[i].quantile(0.75)\n",
    "    IQR = Q3 - Q1\n",
    "    up_limit = Q3 + 4 * IQR\n",
    "    lim_max = df[i].max() * 0.7\n",
    "    if df[i].median() == 0:\n",
    "        df[i] = df[i].apply(lambda x: x if x < lim_max else lim_max)\n",
    "    else:\n",
    "        df[i] = df[i].apply(lambda x: x if x < up_limit else df[i].median())\n",
    "\n",
    "    df.to_csv(output_path)"
   ],
   "metadata": {
    "collapsed": false,
    "pycharm": {
     "name": "#%%\n"
    }
   }
  },
  {
   "cell_type": "code",
   "execution_count": 10,
   "outputs": [],
   "source": [
    "RAW_DATA_PATH = 'adata/raw/all_data.csv'\n",
    "CLEANED_DATA_PATH = 'data/interim/data_cleaned.csv'"
   ],
   "metadata": {
    "collapsed": false,
    "pycharm": {
     "name": "#%%\n"
    }
   }
  },
  {
   "cell_type": "code",
   "execution_count": 11,
   "outputs": [
    {
     "ename": "FileNotFoundError",
     "evalue": "[Errno 2] No such file or directory: 'adata/raw/all_data.csv'",
     "output_type": "error",
     "traceback": [
      "\u001B[1;31m---------------------------------------------------------------------------\u001B[0m",
      "\u001B[1;31mFileNotFoundError\u001B[0m                         Traceback (most recent call last)",
      "Input \u001B[1;32mIn [11]\u001B[0m, in \u001B[0;36m<cell line: 1>\u001B[1;34m()\u001B[0m\n\u001B[0;32m      1\u001B[0m \u001B[38;5;28;01mif\u001B[39;00m \u001B[38;5;18m__name__\u001B[39m \u001B[38;5;241m==\u001B[39m \u001B[38;5;124m\"\u001B[39m\u001B[38;5;124m__main__\u001B[39m\u001B[38;5;124m\"\u001B[39m:\n\u001B[1;32m----> 2\u001B[0m     \u001B[43mclean_data\u001B[49m\u001B[43m(\u001B[49m\u001B[43mRAW_DATA_PATH\u001B[49m\u001B[43m,\u001B[49m\u001B[43m \u001B[49m\u001B[43mCLEANED_DATA_PATH\u001B[49m\u001B[43m)\u001B[49m\n",
      "Input \u001B[1;32mIn [4]\u001B[0m, in \u001B[0;36mclean_data\u001B[1;34m(input_path, output_path)\u001B[0m\n\u001B[0;32m      1\u001B[0m \u001B[38;5;28;01mdef\u001B[39;00m \u001B[38;5;21mclean_data\u001B[39m(input_path: \u001B[38;5;28mstr\u001B[39m, output_path: \u001B[38;5;28mstr\u001B[39m):\n\u001B[0;32m      2\u001B[0m     \u001B[38;5;124;03m'''\u001B[39;00m\n\u001B[0;32m      3\u001B[0m \u001B[38;5;124;03m    :param input_path:\u001B[39;00m\n\u001B[0;32m      4\u001B[0m \u001B[38;5;124;03m    :param output_path:\u001B[39;00m\n\u001B[0;32m      5\u001B[0m \u001B[38;5;124;03m    '''\u001B[39;00m\n\u001B[1;32m----> 7\u001B[0m     df \u001B[38;5;241m=\u001B[39m \u001B[43mpd\u001B[49m\u001B[38;5;241;43m.\u001B[39;49m\u001B[43mread_csv\u001B[49m\u001B[43m(\u001B[49m\u001B[43minput_path\u001B[49m\u001B[43m)\u001B[49m\n\u001B[0;32m      9\u001B[0m     df \u001B[38;5;241m=\u001B[39m df\u001B[38;5;241m.\u001B[39mdrop([\u001B[38;5;124m'\u001B[39m\u001B[38;5;124mhhid\u001B[39m\u001B[38;5;124m'\u001B[39m, \u001B[38;5;124m'\u001B[39m\u001B[38;5;124mid\u001B[39m\u001B[38;5;124m'\u001B[39m], axis\u001B[38;5;241m=\u001B[39m\u001B[38;5;241m1\u001B[39m)\n\u001B[0;32m     10\u001B[0m     numeric_columns \u001B[38;5;241m=\u001B[39m df\u001B[38;5;241m.\u001B[39mdrop(\u001B[38;5;124m'\u001B[39m\u001B[38;5;124mПочтовый индекс\u001B[39m\u001B[38;5;124m'\u001B[39m, axis\u001B[38;5;241m=\u001B[39m\u001B[38;5;241m1\u001B[39m)\u001B[38;5;241m.\u001B[39mselect_dtypes(include\u001B[38;5;241m=\u001B[39m[\u001B[38;5;124m'\u001B[39m\u001B[38;5;124mint\u001B[39m\u001B[38;5;124m'\u001B[39m])\n",
      "File \u001B[1;32m~\\AppData\\Local\\Programs\\Python\\Python39\\lib\\site-packages\\pandas\\util\\_decorators.py:311\u001B[0m, in \u001B[0;36mdeprecate_nonkeyword_arguments.<locals>.decorate.<locals>.wrapper\u001B[1;34m(*args, **kwargs)\u001B[0m\n\u001B[0;32m    305\u001B[0m \u001B[38;5;28;01mif\u001B[39;00m \u001B[38;5;28mlen\u001B[39m(args) \u001B[38;5;241m>\u001B[39m num_allow_args:\n\u001B[0;32m    306\u001B[0m     warnings\u001B[38;5;241m.\u001B[39mwarn(\n\u001B[0;32m    307\u001B[0m         msg\u001B[38;5;241m.\u001B[39mformat(arguments\u001B[38;5;241m=\u001B[39marguments),\n\u001B[0;32m    308\u001B[0m         \u001B[38;5;167;01mFutureWarning\u001B[39;00m,\n\u001B[0;32m    309\u001B[0m         stacklevel\u001B[38;5;241m=\u001B[39mstacklevel,\n\u001B[0;32m    310\u001B[0m     )\n\u001B[1;32m--> 311\u001B[0m \u001B[38;5;28;01mreturn\u001B[39;00m func(\u001B[38;5;241m*\u001B[39margs, \u001B[38;5;241m*\u001B[39m\u001B[38;5;241m*\u001B[39mkwargs)\n",
      "File \u001B[1;32m~\\AppData\\Local\\Programs\\Python\\Python39\\lib\\site-packages\\pandas\\io\\parsers\\readers.py:680\u001B[0m, in \u001B[0;36mread_csv\u001B[1;34m(filepath_or_buffer, sep, delimiter, header, names, index_col, usecols, squeeze, prefix, mangle_dupe_cols, dtype, engine, converters, true_values, false_values, skipinitialspace, skiprows, skipfooter, nrows, na_values, keep_default_na, na_filter, verbose, skip_blank_lines, parse_dates, infer_datetime_format, keep_date_col, date_parser, dayfirst, cache_dates, iterator, chunksize, compression, thousands, decimal, lineterminator, quotechar, quoting, doublequote, escapechar, comment, encoding, encoding_errors, dialect, error_bad_lines, warn_bad_lines, on_bad_lines, delim_whitespace, low_memory, memory_map, float_precision, storage_options)\u001B[0m\n\u001B[0;32m    665\u001B[0m kwds_defaults \u001B[38;5;241m=\u001B[39m _refine_defaults_read(\n\u001B[0;32m    666\u001B[0m     dialect,\n\u001B[0;32m    667\u001B[0m     delimiter,\n\u001B[1;32m   (...)\u001B[0m\n\u001B[0;32m    676\u001B[0m     defaults\u001B[38;5;241m=\u001B[39m{\u001B[38;5;124m\"\u001B[39m\u001B[38;5;124mdelimiter\u001B[39m\u001B[38;5;124m\"\u001B[39m: \u001B[38;5;124m\"\u001B[39m\u001B[38;5;124m,\u001B[39m\u001B[38;5;124m\"\u001B[39m},\n\u001B[0;32m    677\u001B[0m )\n\u001B[0;32m    678\u001B[0m kwds\u001B[38;5;241m.\u001B[39mupdate(kwds_defaults)\n\u001B[1;32m--> 680\u001B[0m \u001B[38;5;28;01mreturn\u001B[39;00m \u001B[43m_read\u001B[49m\u001B[43m(\u001B[49m\u001B[43mfilepath_or_buffer\u001B[49m\u001B[43m,\u001B[49m\u001B[43m \u001B[49m\u001B[43mkwds\u001B[49m\u001B[43m)\u001B[49m\n",
      "File \u001B[1;32m~\\AppData\\Local\\Programs\\Python\\Python39\\lib\\site-packages\\pandas\\io\\parsers\\readers.py:575\u001B[0m, in \u001B[0;36m_read\u001B[1;34m(filepath_or_buffer, kwds)\u001B[0m\n\u001B[0;32m    572\u001B[0m _validate_names(kwds\u001B[38;5;241m.\u001B[39mget(\u001B[38;5;124m\"\u001B[39m\u001B[38;5;124mnames\u001B[39m\u001B[38;5;124m\"\u001B[39m, \u001B[38;5;28;01mNone\u001B[39;00m))\n\u001B[0;32m    574\u001B[0m \u001B[38;5;66;03m# Create the parser.\u001B[39;00m\n\u001B[1;32m--> 575\u001B[0m parser \u001B[38;5;241m=\u001B[39m TextFileReader(filepath_or_buffer, \u001B[38;5;241m*\u001B[39m\u001B[38;5;241m*\u001B[39mkwds)\n\u001B[0;32m    577\u001B[0m \u001B[38;5;28;01mif\u001B[39;00m chunksize \u001B[38;5;129;01mor\u001B[39;00m iterator:\n\u001B[0;32m    578\u001B[0m     \u001B[38;5;28;01mreturn\u001B[39;00m parser\n",
      "File \u001B[1;32m~\\AppData\\Local\\Programs\\Python\\Python39\\lib\\site-packages\\pandas\\io\\parsers\\readers.py:933\u001B[0m, in \u001B[0;36mTextFileReader.__init__\u001B[1;34m(self, f, engine, **kwds)\u001B[0m\n\u001B[0;32m    930\u001B[0m     \u001B[38;5;28mself\u001B[39m\u001B[38;5;241m.\u001B[39moptions[\u001B[38;5;124m\"\u001B[39m\u001B[38;5;124mhas_index_names\u001B[39m\u001B[38;5;124m\"\u001B[39m] \u001B[38;5;241m=\u001B[39m kwds[\u001B[38;5;124m\"\u001B[39m\u001B[38;5;124mhas_index_names\u001B[39m\u001B[38;5;124m\"\u001B[39m]\n\u001B[0;32m    932\u001B[0m \u001B[38;5;28mself\u001B[39m\u001B[38;5;241m.\u001B[39mhandles: IOHandles \u001B[38;5;241m|\u001B[39m \u001B[38;5;28;01mNone\u001B[39;00m \u001B[38;5;241m=\u001B[39m \u001B[38;5;28;01mNone\u001B[39;00m\n\u001B[1;32m--> 933\u001B[0m \u001B[38;5;28mself\u001B[39m\u001B[38;5;241m.\u001B[39m_engine \u001B[38;5;241m=\u001B[39m \u001B[38;5;28;43mself\u001B[39;49m\u001B[38;5;241;43m.\u001B[39;49m\u001B[43m_make_engine\u001B[49m\u001B[43m(\u001B[49m\u001B[43mf\u001B[49m\u001B[43m,\u001B[49m\u001B[43m \u001B[49m\u001B[38;5;28;43mself\u001B[39;49m\u001B[38;5;241;43m.\u001B[39;49m\u001B[43mengine\u001B[49m\u001B[43m)\u001B[49m\n",
      "File \u001B[1;32m~\\AppData\\Local\\Programs\\Python\\Python39\\lib\\site-packages\\pandas\\io\\parsers\\readers.py:1217\u001B[0m, in \u001B[0;36mTextFileReader._make_engine\u001B[1;34m(self, f, engine)\u001B[0m\n\u001B[0;32m   1213\u001B[0m     mode \u001B[38;5;241m=\u001B[39m \u001B[38;5;124m\"\u001B[39m\u001B[38;5;124mrb\u001B[39m\u001B[38;5;124m\"\u001B[39m\n\u001B[0;32m   1214\u001B[0m \u001B[38;5;66;03m# error: No overload variant of \"get_handle\" matches argument types\u001B[39;00m\n\u001B[0;32m   1215\u001B[0m \u001B[38;5;66;03m# \"Union[str, PathLike[str], ReadCsvBuffer[bytes], ReadCsvBuffer[str]]\"\u001B[39;00m\n\u001B[0;32m   1216\u001B[0m \u001B[38;5;66;03m# , \"str\", \"bool\", \"Any\", \"Any\", \"Any\", \"Any\", \"Any\"\u001B[39;00m\n\u001B[1;32m-> 1217\u001B[0m \u001B[38;5;28mself\u001B[39m\u001B[38;5;241m.\u001B[39mhandles \u001B[38;5;241m=\u001B[39m \u001B[43mget_handle\u001B[49m\u001B[43m(\u001B[49m\u001B[43m  \u001B[49m\u001B[38;5;66;43;03m# type: ignore[call-overload]\u001B[39;49;00m\n\u001B[0;32m   1218\u001B[0m \u001B[43m    \u001B[49m\u001B[43mf\u001B[49m\u001B[43m,\u001B[49m\n\u001B[0;32m   1219\u001B[0m \u001B[43m    \u001B[49m\u001B[43mmode\u001B[49m\u001B[43m,\u001B[49m\n\u001B[0;32m   1220\u001B[0m \u001B[43m    \u001B[49m\u001B[43mencoding\u001B[49m\u001B[38;5;241;43m=\u001B[39;49m\u001B[38;5;28;43mself\u001B[39;49m\u001B[38;5;241;43m.\u001B[39;49m\u001B[43moptions\u001B[49m\u001B[38;5;241;43m.\u001B[39;49m\u001B[43mget\u001B[49m\u001B[43m(\u001B[49m\u001B[38;5;124;43m\"\u001B[39;49m\u001B[38;5;124;43mencoding\u001B[39;49m\u001B[38;5;124;43m\"\u001B[39;49m\u001B[43m,\u001B[49m\u001B[43m \u001B[49m\u001B[38;5;28;43;01mNone\u001B[39;49;00m\u001B[43m)\u001B[49m\u001B[43m,\u001B[49m\n\u001B[0;32m   1221\u001B[0m \u001B[43m    \u001B[49m\u001B[43mcompression\u001B[49m\u001B[38;5;241;43m=\u001B[39;49m\u001B[38;5;28;43mself\u001B[39;49m\u001B[38;5;241;43m.\u001B[39;49m\u001B[43moptions\u001B[49m\u001B[38;5;241;43m.\u001B[39;49m\u001B[43mget\u001B[49m\u001B[43m(\u001B[49m\u001B[38;5;124;43m\"\u001B[39;49m\u001B[38;5;124;43mcompression\u001B[39;49m\u001B[38;5;124;43m\"\u001B[39;49m\u001B[43m,\u001B[49m\u001B[43m \u001B[49m\u001B[38;5;28;43;01mNone\u001B[39;49;00m\u001B[43m)\u001B[49m\u001B[43m,\u001B[49m\n\u001B[0;32m   1222\u001B[0m \u001B[43m    \u001B[49m\u001B[43mmemory_map\u001B[49m\u001B[38;5;241;43m=\u001B[39;49m\u001B[38;5;28;43mself\u001B[39;49m\u001B[38;5;241;43m.\u001B[39;49m\u001B[43moptions\u001B[49m\u001B[38;5;241;43m.\u001B[39;49m\u001B[43mget\u001B[49m\u001B[43m(\u001B[49m\u001B[38;5;124;43m\"\u001B[39;49m\u001B[38;5;124;43mmemory_map\u001B[39;49m\u001B[38;5;124;43m\"\u001B[39;49m\u001B[43m,\u001B[49m\u001B[43m \u001B[49m\u001B[38;5;28;43;01mFalse\u001B[39;49;00m\u001B[43m)\u001B[49m\u001B[43m,\u001B[49m\n\u001B[0;32m   1223\u001B[0m \u001B[43m    \u001B[49m\u001B[43mis_text\u001B[49m\u001B[38;5;241;43m=\u001B[39;49m\u001B[43mis_text\u001B[49m\u001B[43m,\u001B[49m\n\u001B[0;32m   1224\u001B[0m \u001B[43m    \u001B[49m\u001B[43merrors\u001B[49m\u001B[38;5;241;43m=\u001B[39;49m\u001B[38;5;28;43mself\u001B[39;49m\u001B[38;5;241;43m.\u001B[39;49m\u001B[43moptions\u001B[49m\u001B[38;5;241;43m.\u001B[39;49m\u001B[43mget\u001B[49m\u001B[43m(\u001B[49m\u001B[38;5;124;43m\"\u001B[39;49m\u001B[38;5;124;43mencoding_errors\u001B[39;49m\u001B[38;5;124;43m\"\u001B[39;49m\u001B[43m,\u001B[49m\u001B[43m \u001B[49m\u001B[38;5;124;43m\"\u001B[39;49m\u001B[38;5;124;43mstrict\u001B[39;49m\u001B[38;5;124;43m\"\u001B[39;49m\u001B[43m)\u001B[49m\u001B[43m,\u001B[49m\n\u001B[0;32m   1225\u001B[0m \u001B[43m    \u001B[49m\u001B[43mstorage_options\u001B[49m\u001B[38;5;241;43m=\u001B[39;49m\u001B[38;5;28;43mself\u001B[39;49m\u001B[38;5;241;43m.\u001B[39;49m\u001B[43moptions\u001B[49m\u001B[38;5;241;43m.\u001B[39;49m\u001B[43mget\u001B[49m\u001B[43m(\u001B[49m\u001B[38;5;124;43m\"\u001B[39;49m\u001B[38;5;124;43mstorage_options\u001B[39;49m\u001B[38;5;124;43m\"\u001B[39;49m\u001B[43m,\u001B[49m\u001B[43m \u001B[49m\u001B[38;5;28;43;01mNone\u001B[39;49;00m\u001B[43m)\u001B[49m\u001B[43m,\u001B[49m\n\u001B[0;32m   1226\u001B[0m \u001B[43m\u001B[49m\u001B[43m)\u001B[49m\n\u001B[0;32m   1227\u001B[0m \u001B[38;5;28;01massert\u001B[39;00m \u001B[38;5;28mself\u001B[39m\u001B[38;5;241m.\u001B[39mhandles \u001B[38;5;129;01mis\u001B[39;00m \u001B[38;5;129;01mnot\u001B[39;00m \u001B[38;5;28;01mNone\u001B[39;00m\n\u001B[0;32m   1228\u001B[0m f \u001B[38;5;241m=\u001B[39m \u001B[38;5;28mself\u001B[39m\u001B[38;5;241m.\u001B[39mhandles\u001B[38;5;241m.\u001B[39mhandle\n",
      "File \u001B[1;32m~\\AppData\\Local\\Programs\\Python\\Python39\\lib\\site-packages\\pandas\\io\\common.py:789\u001B[0m, in \u001B[0;36mget_handle\u001B[1;34m(path_or_buf, mode, encoding, compression, memory_map, is_text, errors, storage_options)\u001B[0m\n\u001B[0;32m    784\u001B[0m \u001B[38;5;28;01melif\u001B[39;00m \u001B[38;5;28misinstance\u001B[39m(handle, \u001B[38;5;28mstr\u001B[39m):\n\u001B[0;32m    785\u001B[0m     \u001B[38;5;66;03m# Check whether the filename is to be opened in binary mode.\u001B[39;00m\n\u001B[0;32m    786\u001B[0m     \u001B[38;5;66;03m# Binary mode does not support 'encoding' and 'newline'.\u001B[39;00m\n\u001B[0;32m    787\u001B[0m     \u001B[38;5;28;01mif\u001B[39;00m ioargs\u001B[38;5;241m.\u001B[39mencoding \u001B[38;5;129;01mand\u001B[39;00m \u001B[38;5;124m\"\u001B[39m\u001B[38;5;124mb\u001B[39m\u001B[38;5;124m\"\u001B[39m \u001B[38;5;129;01mnot\u001B[39;00m \u001B[38;5;129;01min\u001B[39;00m ioargs\u001B[38;5;241m.\u001B[39mmode:\n\u001B[0;32m    788\u001B[0m         \u001B[38;5;66;03m# Encoding\u001B[39;00m\n\u001B[1;32m--> 789\u001B[0m         handle \u001B[38;5;241m=\u001B[39m \u001B[38;5;28;43mopen\u001B[39;49m\u001B[43m(\u001B[49m\n\u001B[0;32m    790\u001B[0m \u001B[43m            \u001B[49m\u001B[43mhandle\u001B[49m\u001B[43m,\u001B[49m\n\u001B[0;32m    791\u001B[0m \u001B[43m            \u001B[49m\u001B[43mioargs\u001B[49m\u001B[38;5;241;43m.\u001B[39;49m\u001B[43mmode\u001B[49m\u001B[43m,\u001B[49m\n\u001B[0;32m    792\u001B[0m \u001B[43m            \u001B[49m\u001B[43mencoding\u001B[49m\u001B[38;5;241;43m=\u001B[39;49m\u001B[43mioargs\u001B[49m\u001B[38;5;241;43m.\u001B[39;49m\u001B[43mencoding\u001B[49m\u001B[43m,\u001B[49m\n\u001B[0;32m    793\u001B[0m \u001B[43m            \u001B[49m\u001B[43merrors\u001B[49m\u001B[38;5;241;43m=\u001B[39;49m\u001B[43merrors\u001B[49m\u001B[43m,\u001B[49m\n\u001B[0;32m    794\u001B[0m \u001B[43m            \u001B[49m\u001B[43mnewline\u001B[49m\u001B[38;5;241;43m=\u001B[39;49m\u001B[38;5;124;43m\"\u001B[39;49m\u001B[38;5;124;43m\"\u001B[39;49m\u001B[43m,\u001B[49m\n\u001B[0;32m    795\u001B[0m \u001B[43m        \u001B[49m\u001B[43m)\u001B[49m\n\u001B[0;32m    796\u001B[0m     \u001B[38;5;28;01melse\u001B[39;00m:\n\u001B[0;32m    797\u001B[0m         \u001B[38;5;66;03m# Binary mode\u001B[39;00m\n\u001B[0;32m    798\u001B[0m         handle \u001B[38;5;241m=\u001B[39m \u001B[38;5;28mopen\u001B[39m(handle, ioargs\u001B[38;5;241m.\u001B[39mmode)\n",
      "\u001B[1;31mFileNotFoundError\u001B[0m: [Errno 2] No such file or directory: 'adata/raw/all_data.csv'"
     ]
    }
   ],
   "source": [
    "if __name__ == \"__main__\":\n",
    "    clean_data(RAW_DATA_PATH, CLEANED_DATA_PATH)"
   ],
   "metadata": {
    "collapsed": false,
    "pycharm": {
     "name": "#%%\n"
    }
   }
  },
  {
   "cell_type": "code",
   "execution_count": null,
   "outputs": [],
   "source": [],
   "metadata": {
    "collapsed": false,
    "pycharm": {
     "name": "#%%\n"
    }
   }
  },
  {
   "cell_type": "code",
   "execution_count": 9,
   "outputs": [],
   "source": [
    "clean_data(RAW_DATA_PATH, CLEANED_DATA_PATH)"
   ],
   "metadata": {
    "collapsed": false,
    "pycharm": {
     "name": "#%%\n"
    }
   }
  },
  {
   "cell_type": "code",
   "execution_count": null,
   "outputs": [],
   "source": [],
   "metadata": {
    "collapsed": false,
    "pycharm": {
     "name": "#%%\n"
    }
   }
  }
 ],
 "metadata": {
  "kernelspec": {
   "display_name": "Python 3",
   "language": "python",
   "name": "python3"
  },
  "language_info": {
   "codemirror_mode": {
    "name": "ipython",
    "version": 2
   },
   "file_extension": ".py",
   "mimetype": "text/x-python",
   "name": "python",
   "nbconvert_exporter": "python",
   "pygments_lexer": "ipython2",
   "version": "2.7.6"
  }
 },
 "nbformat": 4,
 "nbformat_minor": 0
}